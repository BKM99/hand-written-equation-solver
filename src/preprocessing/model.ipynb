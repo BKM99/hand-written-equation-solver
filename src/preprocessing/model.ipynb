{
 "cells": [
  {
   "cell_type": "markdown",
   "id": "06034d1d",
   "metadata": {},
   "source": [
    "## This notebook takes the CSV file of image data and preps it for the model, then trains the model\n",
    "\n"
   ]
  },
  {
   "cell_type": "code",
   "execution_count": 1,
   "id": "a5b60f3b",
   "metadata": {},
   "outputs": [
    {
     "name": "stderr",
     "output_type": "stream",
     "text": [
      "WARNING:root:Limited tf.compat.v2.summary API due to missing TensorBoard installation.\n",
      "WARNING:root:Limited tf.compat.v2.summary API due to missing TensorBoard installation.\n",
      "WARNING:root:Limited tf.compat.v2.summary API due to missing TensorBoard installation.\n",
      "WARNING:root:Limited tf.summary API due to missing TensorBoard installation.\n"
     ]
    }
   ],
   "source": [
    "import pandas as pd \n",
    "import numpy as np \n",
    "import matplotlib.pyplot as plt \n",
    "import time\n",
    "import tensorflow as tf\n",
    "from tensorflow.keras.layers import Dense, Flatten, AveragePooling2D, MaxPool2D, Conv2D, Dropout\n",
    "from tensorflow.keras import Sequential\n",
    "from tensorflow.keras.callbacks import EarlyStopping\n",
    "from tensorflow.keras.utils import to_categorical\n",
    "from tensorflow.keras import backend as K\n",
    "K.set_image_data_format('channels_last')"
   ]
  },
  {
   "cell_type": "code",
   "execution_count": 2,
   "id": "cff143b8",
   "metadata": {},
   "outputs": [
    {
     "data": {
      "text/html": [
       "<div>\n",
       "<style scoped>\n",
       "    .dataframe tbody tr th:only-of-type {\n",
       "        vertical-align: middle;\n",
       "    }\n",
       "\n",
       "    .dataframe tbody tr th {\n",
       "        vertical-align: top;\n",
       "    }\n",
       "\n",
       "    .dataframe thead th {\n",
       "        text-align: right;\n",
       "    }\n",
       "</style>\n",
       "<table border=\"1\" class=\"dataframe\">\n",
       "  <thead>\n",
       "    <tr style=\"text-align: right;\">\n",
       "      <th></th>\n",
       "      <th>pixel0</th>\n",
       "      <th>pixel1</th>\n",
       "      <th>pixel2</th>\n",
       "      <th>pixel3</th>\n",
       "      <th>pixel4</th>\n",
       "      <th>pixel5</th>\n",
       "      <th>pixel6</th>\n",
       "      <th>pixel7</th>\n",
       "      <th>pixel8</th>\n",
       "      <th>pixel9</th>\n",
       "      <th>...</th>\n",
       "      <th>pixel1015</th>\n",
       "      <th>pixel1016</th>\n",
       "      <th>pixel1017</th>\n",
       "      <th>pixel1018</th>\n",
       "      <th>pixel1019</th>\n",
       "      <th>pixel1020</th>\n",
       "      <th>pixel1021</th>\n",
       "      <th>pixel1022</th>\n",
       "      <th>pixel1023</th>\n",
       "      <th>class</th>\n",
       "    </tr>\n",
       "  </thead>\n",
       "  <tbody>\n",
       "    <tr>\n",
       "      <th>0</th>\n",
       "      <td>231</td>\n",
       "      <td>105</td>\n",
       "      <td>24</td>\n",
       "      <td>24</td>\n",
       "      <td>24</td>\n",
       "      <td>24</td>\n",
       "      <td>24</td>\n",
       "      <td>24</td>\n",
       "      <td>24</td>\n",
       "      <td>24</td>\n",
       "      <td>...</td>\n",
       "      <td>0</td>\n",
       "      <td>0</td>\n",
       "      <td>0</td>\n",
       "      <td>0</td>\n",
       "      <td>0</td>\n",
       "      <td>0</td>\n",
       "      <td>0</td>\n",
       "      <td>0</td>\n",
       "      <td>0</td>\n",
       "      <td>0</td>\n",
       "    </tr>\n",
       "    <tr>\n",
       "      <th>1</th>\n",
       "      <td>0</td>\n",
       "      <td>0</td>\n",
       "      <td>0</td>\n",
       "      <td>0</td>\n",
       "      <td>0</td>\n",
       "      <td>0</td>\n",
       "      <td>0</td>\n",
       "      <td>0</td>\n",
       "      <td>52</td>\n",
       "      <td>108</td>\n",
       "      <td>...</td>\n",
       "      <td>0</td>\n",
       "      <td>0</td>\n",
       "      <td>0</td>\n",
       "      <td>0</td>\n",
       "      <td>0</td>\n",
       "      <td>0</td>\n",
       "      <td>0</td>\n",
       "      <td>0</td>\n",
       "      <td>0</td>\n",
       "      <td>0</td>\n",
       "    </tr>\n",
       "    <tr>\n",
       "      <th>2</th>\n",
       "      <td>0</td>\n",
       "      <td>0</td>\n",
       "      <td>0</td>\n",
       "      <td>0</td>\n",
       "      <td>0</td>\n",
       "      <td>0</td>\n",
       "      <td>0</td>\n",
       "      <td>0</td>\n",
       "      <td>18</td>\n",
       "      <td>40</td>\n",
       "      <td>...</td>\n",
       "      <td>0</td>\n",
       "      <td>0</td>\n",
       "      <td>0</td>\n",
       "      <td>0</td>\n",
       "      <td>0</td>\n",
       "      <td>0</td>\n",
       "      <td>0</td>\n",
       "      <td>0</td>\n",
       "      <td>0</td>\n",
       "      <td>0</td>\n",
       "    </tr>\n",
       "    <tr>\n",
       "      <th>3</th>\n",
       "      <td>0</td>\n",
       "      <td>0</td>\n",
       "      <td>0</td>\n",
       "      <td>0</td>\n",
       "      <td>0</td>\n",
       "      <td>0</td>\n",
       "      <td>56</td>\n",
       "      <td>172</td>\n",
       "      <td>52</td>\n",
       "      <td>170</td>\n",
       "      <td>...</td>\n",
       "      <td>0</td>\n",
       "      <td>0</td>\n",
       "      <td>0</td>\n",
       "      <td>0</td>\n",
       "      <td>0</td>\n",
       "      <td>0</td>\n",
       "      <td>0</td>\n",
       "      <td>0</td>\n",
       "      <td>0</td>\n",
       "      <td>0</td>\n",
       "    </tr>\n",
       "    <tr>\n",
       "      <th>4</th>\n",
       "      <td>0</td>\n",
       "      <td>0</td>\n",
       "      <td>0</td>\n",
       "      <td>0</td>\n",
       "      <td>0</td>\n",
       "      <td>0</td>\n",
       "      <td>0</td>\n",
       "      <td>0</td>\n",
       "      <td>0</td>\n",
       "      <td>0</td>\n",
       "      <td>...</td>\n",
       "      <td>0</td>\n",
       "      <td>0</td>\n",
       "      <td>0</td>\n",
       "      <td>0</td>\n",
       "      <td>0</td>\n",
       "      <td>0</td>\n",
       "      <td>0</td>\n",
       "      <td>0</td>\n",
       "      <td>0</td>\n",
       "      <td>0</td>\n",
       "    </tr>\n",
       "  </tbody>\n",
       "</table>\n",
       "<p>5 rows × 1025 columns</p>\n",
       "</div>"
      ],
      "text/plain": [
       "   pixel0  pixel1  pixel2  pixel3  pixel4  pixel5  pixel6  pixel7  pixel8  \\\n",
       "0     231     105      24      24      24      24      24      24      24   \n",
       "1       0       0       0       0       0       0       0       0      52   \n",
       "2       0       0       0       0       0       0       0       0      18   \n",
       "3       0       0       0       0       0       0      56     172      52   \n",
       "4       0       0       0       0       0       0       0       0       0   \n",
       "\n",
       "   pixel9  ...  pixel1015  pixel1016  pixel1017  pixel1018  pixel1019  \\\n",
       "0      24  ...          0          0          0          0          0   \n",
       "1     108  ...          0          0          0          0          0   \n",
       "2      40  ...          0          0          0          0          0   \n",
       "3     170  ...          0          0          0          0          0   \n",
       "4       0  ...          0          0          0          0          0   \n",
       "\n",
       "   pixel1020  pixel1021  pixel1022  pixel1023  class  \n",
       "0          0          0          0          0      0  \n",
       "1          0          0          0          0      0  \n",
       "2          0          0          0          0      0  \n",
       "3          0          0          0          0      0  \n",
       "4          0          0          0          0      0  \n",
       "\n",
       "[5 rows x 1025 columns]"
      ]
     },
     "execution_count": 2,
     "metadata": {},
     "output_type": "execute_result"
    }
   ],
   "source": [
    "df = pd.read_csv('final.csv',index_col=False)\n",
    "df.head()"
   ]
  },
  {
   "cell_type": "code",
   "execution_count": 3,
   "id": "20ed1a6f",
   "metadata": {},
   "outputs": [
    {
     "data": {
      "text/plain": [
       "1     6327\n",
       "2     6210\n",
       "12    6021\n",
       "11    5443\n",
       "3     2469\n",
       "0     1810\n",
       "4     1640\n",
       "5     1008\n",
       "6      812\n",
       "7      753\n",
       "9      742\n",
       "8      731\n",
       "10     600\n",
       "Name: class, dtype: int64"
      ]
     },
     "execution_count": 3,
     "metadata": {},
     "output_type": "execute_result"
    }
   ],
   "source": [
    "df['class'].value_counts()"
   ]
  },
  {
   "cell_type": "code",
   "execution_count": 4,
   "id": "1056854a",
   "metadata": {},
   "outputs": [],
   "source": [
    "IMG_W = 32\n",
    "IMG_H = 32\n",
    "CHANNELS = 1"
   ]
  },
  {
   "cell_type": "markdown",
   "id": "90dd8b78",
   "metadata": {},
   "source": [
    "### Viewing an image from the csv file"
   ]
  },
  {
   "cell_type": "code",
   "execution_count": 5,
   "id": "373550ee",
   "metadata": {},
   "outputs": [
    {
     "data": {
      "image/png": "[encoded data removed]",
      "text/plain": [
       "<Figure size 432x288 with 1 Axes>"
      ]
     },
     "metadata": {
      "needs_background": "light"
     },
     "output_type": "display_data"
    }
   ],
   "source": [
    "image = df.iloc[0]\n",
    "im = np.array(image, dtype=np.uint8)\n",
    "im.resize(IMG_H,IMG_W,CHANNELS) \n",
    "plt.imshow(im)\n",
    "plt.show()"
   ]
  },
  {
   "cell_type": "markdown",
   "id": "3aa399d4",
   "metadata": {},
   "source": [
    "### Dropping 'class' column"
   ]
  },
  {
   "cell_type": "code",
   "execution_count": 6,
   "id": "a5b90b6e",
   "metadata": {},
   "outputs": [],
   "source": [
    "labels = df.iloc[:,-1:]\n",
    "labels_np = np.array(labels)\n",
    "labels_as_cat = to_categorical(labels_np,num_classes=13)"
   ]
  },
  {
   "cell_type": "code",
   "execution_count": 7,
   "id": "ca485aa0",
   "metadata": {},
   "outputs": [
    {
     "data": {
      "text/plain": [
       "array([1., 0., 0., 0., 0., 0., 0., 0., 0., 0., 0., 0., 0.], dtype=float32)"
      ]
     },
     "execution_count": 7,
     "metadata": {},
     "output_type": "execute_result"
    }
   ],
   "source": [
    "labels_as_cat[0]"
   ]
  },
  {
   "cell_type": "code",
   "execution_count": 8,
   "id": "d2d70997",
   "metadata": {},
   "outputs": [
    {
     "data": {
      "text/html": [
       "<div>\n",
       "<style scoped>\n",
       "    .dataframe tbody tr th:only-of-type {\n",
       "        vertical-align: middle;\n",
       "    }\n",
       "\n",
       "    .dataframe tbody tr th {\n",
       "        vertical-align: top;\n",
       "    }\n",
       "\n",
       "    .dataframe thead th {\n",
       "        text-align: right;\n",
       "    }\n",
       "</style>\n",
       "<table border=\"1\" class=\"dataframe\">\n",
       "  <thead>\n",
       "    <tr style=\"text-align: right;\">\n",
       "      <th></th>\n",
       "      <th>pixel0</th>\n",
       "      <th>pixel1</th>\n",
       "      <th>pixel2</th>\n",
       "      <th>pixel3</th>\n",
       "      <th>pixel4</th>\n",
       "      <th>pixel5</th>\n",
       "      <th>pixel6</th>\n",
       "      <th>pixel7</th>\n",
       "      <th>pixel8</th>\n",
       "      <th>pixel9</th>\n",
       "      <th>...</th>\n",
       "      <th>pixel1014</th>\n",
       "      <th>pixel1015</th>\n",
       "      <th>pixel1016</th>\n",
       "      <th>pixel1017</th>\n",
       "      <th>pixel1018</th>\n",
       "      <th>pixel1019</th>\n",
       "      <th>pixel1020</th>\n",
       "      <th>pixel1021</th>\n",
       "      <th>pixel1022</th>\n",
       "      <th>pixel1023</th>\n",
       "    </tr>\n",
       "  </thead>\n",
       "  <tbody>\n",
       "    <tr>\n",
       "      <th>0</th>\n",
       "      <td>231</td>\n",
       "      <td>105</td>\n",
       "      <td>24</td>\n",
       "      <td>24</td>\n",
       "      <td>24</td>\n",
       "      <td>24</td>\n",
       "      <td>24</td>\n",
       "      <td>24</td>\n",
       "      <td>24</td>\n",
       "      <td>24</td>\n",
       "      <td>...</td>\n",
       "      <td>0</td>\n",
       "      <td>0</td>\n",
       "      <td>0</td>\n",
       "      <td>0</td>\n",
       "      <td>0</td>\n",
       "      <td>0</td>\n",
       "      <td>0</td>\n",
       "      <td>0</td>\n",
       "      <td>0</td>\n",
       "      <td>0</td>\n",
       "    </tr>\n",
       "    <tr>\n",
       "      <th>1</th>\n",
       "      <td>0</td>\n",
       "      <td>0</td>\n",
       "      <td>0</td>\n",
       "      <td>0</td>\n",
       "      <td>0</td>\n",
       "      <td>0</td>\n",
       "      <td>0</td>\n",
       "      <td>0</td>\n",
       "      <td>52</td>\n",
       "      <td>108</td>\n",
       "      <td>...</td>\n",
       "      <td>0</td>\n",
       "      <td>0</td>\n",
       "      <td>0</td>\n",
       "      <td>0</td>\n",
       "      <td>0</td>\n",
       "      <td>0</td>\n",
       "      <td>0</td>\n",
       "      <td>0</td>\n",
       "      <td>0</td>\n",
       "      <td>0</td>\n",
       "    </tr>\n",
       "    <tr>\n",
       "      <th>2</th>\n",
       "      <td>0</td>\n",
       "      <td>0</td>\n",
       "      <td>0</td>\n",
       "      <td>0</td>\n",
       "      <td>0</td>\n",
       "      <td>0</td>\n",
       "      <td>0</td>\n",
       "      <td>0</td>\n",
       "      <td>18</td>\n",
       "      <td>40</td>\n",
       "      <td>...</td>\n",
       "      <td>0</td>\n",
       "      <td>0</td>\n",
       "      <td>0</td>\n",
       "      <td>0</td>\n",
       "      <td>0</td>\n",
       "      <td>0</td>\n",
       "      <td>0</td>\n",
       "      <td>0</td>\n",
       "      <td>0</td>\n",
       "      <td>0</td>\n",
       "    </tr>\n",
       "    <tr>\n",
       "      <th>3</th>\n",
       "      <td>0</td>\n",
       "      <td>0</td>\n",
       "      <td>0</td>\n",
       "      <td>0</td>\n",
       "      <td>0</td>\n",
       "      <td>0</td>\n",
       "      <td>56</td>\n",
       "      <td>172</td>\n",
       "      <td>52</td>\n",
       "      <td>170</td>\n",
       "      <td>...</td>\n",
       "      <td>0</td>\n",
       "      <td>0</td>\n",
       "      <td>0</td>\n",
       "      <td>0</td>\n",
       "      <td>0</td>\n",
       "      <td>0</td>\n",
       "      <td>0</td>\n",
       "      <td>0</td>\n",
       "      <td>0</td>\n",
       "      <td>0</td>\n",
       "    </tr>\n",
       "    <tr>\n",
       "      <th>4</th>\n",
       "      <td>0</td>\n",
       "      <td>0</td>\n",
       "      <td>0</td>\n",
       "      <td>0</td>\n",
       "      <td>0</td>\n",
       "      <td>0</td>\n",
       "      <td>0</td>\n",
       "      <td>0</td>\n",
       "      <td>0</td>\n",
       "      <td>0</td>\n",
       "      <td>...</td>\n",
       "      <td>0</td>\n",
       "      <td>0</td>\n",
       "      <td>0</td>\n",
       "      <td>0</td>\n",
       "      <td>0</td>\n",
       "      <td>0</td>\n",
       "      <td>0</td>\n",
       "      <td>0</td>\n",
       "      <td>0</td>\n",
       "      <td>0</td>\n",
       "    </tr>\n",
       "  </tbody>\n",
       "</table>\n",
       "<p>5 rows × 1024 columns</p>\n",
       "</div>"
      ],
      "text/plain": [
       "   pixel0  pixel1  pixel2  pixel3  pixel4  pixel5  pixel6  pixel7  pixel8  \\\n",
       "0     231     105      24      24      24      24      24      24      24   \n",
       "1       0       0       0       0       0       0       0       0      52   \n",
       "2       0       0       0       0       0       0       0       0      18   \n",
       "3       0       0       0       0       0       0      56     172      52   \n",
       "4       0       0       0       0       0       0       0       0       0   \n",
       "\n",
       "   pixel9  ...  pixel1014  pixel1015  pixel1016  pixel1017  pixel1018  \\\n",
       "0      24  ...          0          0          0          0          0   \n",
       "1     108  ...          0          0          0          0          0   \n",
       "2      40  ...          0          0          0          0          0   \n",
       "3     170  ...          0          0          0          0          0   \n",
       "4       0  ...          0          0          0          0          0   \n",
       "\n",
       "   pixel1019  pixel1020  pixel1021  pixel1022  pixel1023  \n",
       "0          0          0          0          0          0  \n",
       "1          0          0          0          0          0  \n",
       "2          0          0          0          0          0  \n",
       "3          0          0          0          0          0  \n",
       "4          0          0          0          0          0  \n",
       "\n",
       "[5 rows x 1024 columns]"
      ]
     },
     "execution_count": 8,
     "metadata": {},
     "output_type": "execute_result"
    }
   ],
   "source": [
    "df_no_class = df.iloc[:,:-1]\n",
    "df_no_class.head()"
   ]
  },
  {
   "cell_type": "code",
   "execution_count": 9,
   "id": "90d1b9c1",
   "metadata": {},
   "outputs": [
    {
     "data": {
      "text/plain": [
       "(34566, 1024)"
      ]
     },
     "execution_count": 9,
     "metadata": {},
     "output_type": "execute_result"
    }
   ],
   "source": [
    "df_no_class.shape"
   ]
  },
  {
   "cell_type": "markdown",
   "id": "699c4337",
   "metadata": {},
   "source": [
    "### Reshaping the data to fit the model \n"
   ]
  },
  {
   "cell_type": "code",
   "execution_count": 10,
   "id": "8e6f6812",
   "metadata": {},
   "outputs": [],
   "source": [
    "l=[]\n",
    "for i in range(len(df_no_class)):\n",
    "    l.append(np.array(df_no_class[i:i+1]).reshape(IMG_H,IMG_W,CHANNELS))\n",
    "X = np.array(l)"
   ]
  },
  {
   "cell_type": "code",
   "execution_count": 11,
   "id": "25fabd41",
   "metadata": {},
   "outputs": [
    {
     "data": {
      "text/plain": [
       "(34566, 32, 32, 1)"
      ]
     },
     "execution_count": 11,
     "metadata": {},
     "output_type": "execute_result"
    }
   ],
   "source": [
    "X.shape"
   ]
  },
  {
   "cell_type": "code",
   "execution_count": 12,
   "id": "53588f7a",
   "metadata": {},
   "outputs": [
    {
     "data": {
      "text/plain": [
       "array([[ 0],\n",
       "       [ 0],\n",
       "       [ 0],\n",
       "       ...,\n",
       "       [12],\n",
       "       [12],\n",
       "       [12]])"
      ]
     },
     "execution_count": 12,
     "metadata": {},
     "output_type": "execute_result"
    }
   ],
   "source": [
    "np.array(labels)"
   ]
  },
  {
   "cell_type": "code",
   "execution_count": 20,
   "id": "d1614b8e",
   "metadata": {},
   "outputs": [
    {
     "data": {
      "text/plain": [
       "{0: 1.4690182745431364,\n",
       " 1: 0.42025020972389393,\n",
       " 2: 0.42816796729840206,\n",
       " 3: 1.0769230769230769,\n",
       " 4: 1.6212945590994372,\n",
       " 5: 2.6378205128205128,\n",
       " 6: 3.2745358090185674,\n",
       " 7: 3.531106343855348,\n",
       " 8: 3.6373776702094074,\n",
       " 9: 3.583454281567489,\n",
       " 10: 4.431538461538461,\n",
       " 11: 0.4885032292711881,\n",
       " 12: 0.44160821739297074}"
      ]
     },
     "execution_count": 20,
     "metadata": {},
     "output_type": "execute_result"
    }
   ],
   "source": [
    "# from sklearn.utils import class_weight\n",
    "\n",
    "# weights = class_weight.compute_class_weight(\n",
    "#     class_weight='balanced',\n",
    "#     classes=np.unique(labels),\n",
    "#     y=labels.values.reshape(-1)\n",
    "# )\n",
    "# class_weights = {i : weights[i] for i in range(len(weights))}\n",
    "# class_weights"
   ]
  },
  {
   "cell_type": "code",
   "execution_count": 27,
   "id": "bac7674a",
   "metadata": {},
   "outputs": [],
   "source": [
    "import math\n",
    "\n",
    "# labels_dict : {ind_label: count_label}\n",
    "# mu : parameter to tune \n",
    "\n",
    "def create_class_weight(labels_dict,mu=0.15):\n",
    "    total = np.sum(list(labels_dict.values()))\n",
    "    keys = labels_dict.keys()\n",
    "    class_weight = dict()\n",
    "    \n",
    "    for key in keys:\n",
    "        score = math.log(mu*total/float(labels_dict[key]))\n",
    "        class_weight[key] = score if score > 1.0 else 1.0\n",
    "    \n",
    "    return class_weight\n",
    "\n",
    "# random labels_dict\n",
    "labels_dict = dict(df['class'].value_counts())\n",
    "\n",
    "class_weights = create_class_weight(labels_dict)"
   ]
  },
  {
   "cell_type": "markdown",
   "id": "506c4e2c",
   "metadata": {},
   "source": [
    "### Creating the model"
   ]
  },
  {
   "cell_type": "code",
   "execution_count": 33,
   "id": "486845d2",
   "metadata": {},
   "outputs": [
    {
     "name": "stdout",
     "output_type": "stream",
     "text": [
      "Model: \"sequential_2\"\n",
      "_________________________________________________________________\n",
      "Layer (type)                 Output Shape              Param #   \n",
      "=================================================================\n",
      "conv2d_4 (Conv2D)            (None, 28, 28, 6)         156       \n",
      "_________________________________________________________________\n",
      "average_pooling2d_2 (Average (None, 14, 14, 6)         0         \n",
      "_________________________________________________________________\n",
      "conv2d_5 (Conv2D)            (None, 10, 10, 16)        2416      \n",
      "_________________________________________________________________\n",
      "average_pooling2d_3 (Average (None, 5, 5, 16)          0         \n",
      "_________________________________________________________________\n",
      "flatten_2 (Flatten)          (None, 400)               0         \n",
      "_________________________________________________________________\n",
      "dense_8 (Dense)              (None, 120)               48120     \n",
      "_________________________________________________________________\n",
      "dense_9 (Dense)              (None, 84)                10164     \n",
      "_________________________________________________________________\n",
      "dense_10 (Dense)             (None, 13)                1105      \n",
      "=================================================================\n",
      "Total params: 61,961\n",
      "Trainable params: 61,961\n",
      "Non-trainable params: 0\n",
      "_________________________________________________________________\n"
     ]
    }
   ],
   "source": [
    "# METRICS = [\n",
    "#       keras.metrics.TruePositives(name='tp'),\n",
    "#       keras.metrics.FalsePositives(name='fp'),\n",
    "#       keras.metrics.TrueNegatives(name='tn'),\n",
    "#       keras.metrics.FalseNegatives(name='fn'), \n",
    "#       keras.metrics.BinaryAccuracy(name='accuracy'),\n",
    "#       keras.metrics.Precision(name='precision'),\n",
    "#       keras.metrics.Recall(name='recall'),\n",
    "#       keras.metrics.AUC(name='auc'),\n",
    "#       keras.metrics.AUC(name='prc', curve='PR'), # precision-recall curve\n",
    "# ]\n",
    "\n",
    "model = Sequential([\n",
    "    Conv2D(filters=6, kernel_size=(5, 5), activation='relu', input_shape=(IMG_H,IMG_W,CHANNELS)),\n",
    "    AveragePooling2D(),\n",
    "    Conv2D(filters=16, kernel_size=(5, 5), activation='relu'),\n",
    "    AveragePooling2D(),\n",
    "    Conv2D(filters=32, kernel_size=(5, 5), activation='relu'),\n",
    "    AveragePooling2D(),\n",
    "    Flatten(),\n",
    "    Dense(units=120, activation='relu'),\n",
    "    Dense(units=84, activation='relu'),\n",
    "    Dense(units=13, activation='softmax')])\n",
    "\n",
    "model.compile(optimizer=tf.keras.optimizers.Adam(learning_rate=3e-4), loss='categorical_crossentropy', metrics=['accuracy'])\n",
    "model.summary()"
   ]
  },
  {
   "cell_type": "code",
   "execution_count": 34,
   "id": "e59b75aa",
   "metadata": {},
   "outputs": [
    {
     "name": "stdout",
     "output_type": "stream",
     "text": [
      "Epoch 1/20\n",
      "514/514 [==============================] - 11s 21ms/step - loss: 1.6324 - accuracy: 0.6806 - val_loss: 0.0358 - val_accuracy: 0.9942\n",
      "Epoch 2/20\n",
      "514/514 [==============================] - 10s 20ms/step - loss: 0.2585 - accuracy: 0.9426 - val_loss: 0.0266 - val_accuracy: 0.9965\n",
      "Epoch 3/20\n",
      "514/514 [==============================] - 10s 20ms/step - loss: 0.1548 - accuracy: 0.9660 - val_loss: 0.0379 - val_accuracy: 0.9936\n",
      "Epoch 4/20\n",
      "514/514 [==============================] - 10s 20ms/step - loss: 0.1185 - accuracy: 0.9723 - val_loss: 0.0464 - val_accuracy: 0.9919\n",
      "Epoch 5/20\n",
      "514/514 [==============================] - 10s 20ms/step - loss: 0.0871 - accuracy: 0.9813 - val_loss: 0.0452 - val_accuracy: 0.9931\n",
      "Epoch 6/20\n",
      "514/514 [==============================] - 12s 24ms/step - loss: 0.0671 - accuracy: 0.9852 - val_loss: 0.0484 - val_accuracy: 0.9936\n",
      "Epoch 7/20\n",
      "514/514 [==============================] - 12s 23ms/step - loss: 0.0573 - accuracy: 0.9867 - val_loss: 0.0427 - val_accuracy: 0.9936\n",
      "Epoch 8/20\n",
      "514/514 [==============================] - 12s 22ms/step - loss: 0.0451 - accuracy: 0.9890 - val_loss: 0.0405 - val_accuracy: 0.9942\n",
      "Epoch 9/20\n",
      "514/514 [==============================] - 11s 21ms/step - loss: 0.0504 - accuracy: 0.9890 - val_loss: 0.0466 - val_accuracy: 0.9925\n",
      "Epoch 10/20\n",
      "514/514 [==============================] - 12s 23ms/step - loss: 0.0346 - accuracy: 0.9927 - val_loss: 0.0421 - val_accuracy: 0.9948\n",
      "Epoch 11/20\n",
      "514/514 [==============================] - 12s 24ms/step - loss: 0.0304 - accuracy: 0.9927 - val_loss: 0.0392 - val_accuracy: 0.9948\n",
      "Epoch 12/20\n",
      "514/514 [==============================] - 11s 22ms/step - loss: 0.0244 - accuracy: 0.9938 - val_loss: 0.0455 - val_accuracy: 0.9954\n",
      "Epoch 13/20\n",
      "514/514 [==============================] - 12s 24ms/step - loss: 0.0225 - accuracy: 0.9948 - val_loss: 0.0666 - val_accuracy: 0.9919\n",
      "Epoch 14/20\n",
      "514/514 [==============================] - 12s 23ms/step - loss: 0.0213 - accuracy: 0.9945 - val_loss: 0.0402 - val_accuracy: 0.9965\n",
      "Epoch 15/20\n",
      "514/514 [==============================] - 10s 20ms/step - loss: 0.0195 - accuracy: 0.9948 - val_loss: 0.1275 - val_accuracy: 0.9705\n",
      "Epoch 16/20\n",
      "514/514 [==============================] - 9s 18ms/step - loss: 0.0195 - accuracy: 0.9955 - val_loss: 0.0503 - val_accuracy: 0.9948\n",
      "Epoch 17/20\n",
      "514/514 [==============================] - 10s 19ms/step - loss: 0.0130 - accuracy: 0.9973 - val_loss: 0.0666 - val_accuracy: 0.9902\n",
      "Epoch 18/20\n",
      "514/514 [==============================] - 10s 20ms/step - loss: 0.0166 - accuracy: 0.9957 - val_loss: 0.0599 - val_accuracy: 0.9913\n",
      "Epoch 19/20\n",
      "514/514 [==============================] - 12s 23ms/step - loss: 0.0172 - accuracy: 0.9962 - val_loss: 0.0327 - val_accuracy: 0.9971\n",
      "Epoch 20/20\n",
      "514/514 [==============================] - 11s 22ms/step - loss: 0.0204 - accuracy: 0.9952 - val_loss: 0.0445 - val_accuracy: 0.9960\n"
     ]
    },
    {
     "data": {
      "text/plain": [
       "<tensorflow.python.keras.callbacks.History at 0x7fd1a3ab9a10>"
      ]
     },
     "execution_count": 34,
     "metadata": {},
     "output_type": "execute_result"
    }
   ],
   "source": [
    "es = EarlyStopping(monitor='val_loss', patience=5)\n",
    "history = model.fit(X, labels_as_cat, batch_size=64, epochs=20, \n",
    "          validation_split=0.05, callbacks=[], \n",
    "          class_weight=class_weights, verbose=1)"
   ]
  },
  {
   "cell_type": "code",
   "execution_count": null,
   "id": "494805d3",
   "metadata": {},
   "outputs": [],
   "source": [
    "def plot_metrics(history):\n",
    "  metrics = ['loss', 'prc', 'precision', 'recall']\n",
    "  for n, metric in enumerate(metrics):\n",
    "    name = metric.replace(\"_\",\" \").capitalize()\n",
    "    plt.subplot(2,2,n+1)\n",
    "    plt.plot(history.epoch, history.history[metric], color=colors[0], label='Train')\n",
    "    plt.plot(history.epoch, history.history['val_'+metric],\n",
    "             color=colors[0], linestyle=\"--\", label='Val')\n",
    "    plt.xlabel('Epoch')\n",
    "    plt.ylabel(name)\n",
    "    if metric == 'loss':\n",
    "      plt.ylim([0, plt.ylim()[1]])\n",
    "    elif metric == 'auc':\n",
    "      plt.ylim([0.8,1])\n",
    "    else:\n",
    "      plt.ylim([0,1])\n",
    "\n",
    "    plt.legend()"
   ]
  },
  {
   "cell_type": "code",
   "execution_count": 35,
   "id": "7eb4b7fe",
   "metadata": {},
   "outputs": [
    {
     "name": "stdout",
     "output_type": "stream",
     "text": [
      "INFO:tensorflow:Assets written to: model/model32x32-1639265480/assets\n"
     ]
    },
    {
     "name": "stderr",
     "output_type": "stream",
     "text": [
      "INFO:tensorflow:Assets written to: model/model32x32-1639265480/assets\n"
     ]
    }
   ],
   "source": [
    "NAME = f'model/model32x32-{int(time.time())}'\n",
    "model.save(NAME)"
   ]
  },
  {
   "cell_type": "code",
   "execution_count": null,
   "id": "8186ca39",
   "metadata": {},
   "outputs": [],
   "source": []
  }
 ],
 "metadata": {
  "kernelspec": {
   "display_name": "Python 3 (ipykernel)",
   "language": "python",
   "name": "python3"
  },
  "language_info": {
   "codemirror_mode": {
    "name": "ipython",
    "version": 3
   },
   "file_extension": ".py",
   "mimetype": "text/x-python",
   "name": "python",
   "nbconvert_exporter": "python",
   "pygments_lexer": "ipython3",
   "version": "3.8.12"
  }
 },
 "nbformat": 4,
 "nbformat_minor": 5
}
